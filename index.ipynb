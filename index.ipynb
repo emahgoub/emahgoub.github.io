{
 "cells": [
  {
   "cell_type": "markdown",
   "id": "unsigned-finland",
   "metadata": {},
   "source": [
    "# CMSC320 Final Tutorial\n",
    "By Esra Mahgoub"
   ]
  },
  {
   "cell_type": "markdown",
   "id": "greater-baltimore",
   "metadata": {},
   "source": [
    "## Introduction"
   ]
  },
  {
   "cell_type": "markdown",
   "id": "informative-facial",
   "metadata": {},
   "source": [
    "## Tools Used\n",
    "The tools used in this notebook are\n",
    "- Requests\n",
    "- Pandas\n",
    "- Numpy\n",
    "- Mathplotlib"
   ]
  },
  {
   "cell_type": "markdown",
   "id": "supposed-arizona",
   "metadata": {},
   "source": [
    "## Data Collection"
   ]
  },
  {
   "cell_type": "markdown",
   "id": "defined-designer",
   "metadata": {},
   "source": [
    "## Data Processing"
   ]
  },
  {
   "cell_type": "markdown",
   "id": "generous-poison",
   "metadata": {},
   "source": [
    "## EXPLORATORY ANALYSIS AND DATA VISUALIZATION"
   ]
  },
  {
   "cell_type": "markdown",
   "id": "adjustable-canon",
   "metadata": {},
   "source": [
    "## Analysis, Hypothesis Testing and Machine Learning:"
   ]
  },
  {
   "cell_type": "markdown",
   "id": "thirty-southeast",
   "metadata": {},
   "source": [
    "## Insight and Policy Decisions"
   ]
  },
  {
   "cell_type": "code",
   "execution_count": null,
   "id": "boolean-performance",
   "metadata": {},
   "outputs": [],
   "source": []
  }
 ],
 "metadata": {
  "kernelspec": {
   "display_name": "Python 3",
   "language": "python",
   "name": "python3"
  },
  "language_info": {
   "codemirror_mode": {
    "name": "ipython",
    "version": 3
   },
   "file_extension": ".py",
   "mimetype": "text/x-python",
   "name": "python",
   "nbconvert_exporter": "python",
   "pygments_lexer": "ipython3",
   "version": "3.8.6"
  }
 },
 "nbformat": 4,
 "nbformat_minor": 5
}
